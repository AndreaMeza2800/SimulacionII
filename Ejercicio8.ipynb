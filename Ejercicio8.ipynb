{
  "nbformat": 4,
  "nbformat_minor": 0,
  "metadata": {
    "colab": {
      "name": "Ejercicio8.ipynb",
      "provenance": [],
      "collapsed_sections": [],
      "authorship_tag": "ABX9TyOiSFyYggOg8uZma7FGsfqK",
      "include_colab_link": true
    },
    "kernelspec": {
      "name": "python3",
      "display_name": "Python 3"
    },
    "language_info": {
      "name": "python"
    }
  },
  "cells": [
    {
      "cell_type": "markdown",
      "metadata": {
        "id": "view-in-github",
        "colab_type": "text"
      },
      "source": [
        "<a href=\"https://colab.research.google.com/github/AndreaMeza2800/SimulacionII/blob/main/Ejercicio8.ipynb\" target=\"_parent\"><img src=\"https://colab.research.google.com/assets/colab-badge.svg\" alt=\"Open In Colab\"/></a>"
      ]
    },
    {
      "cell_type": "markdown",
      "source": [
        "## Ejercicio 8\n",
        "Andrea Leticia Meza Villa\n",
        "\n",
        "Estimar las integrales:\n"
      ],
      "metadata": {
        "id": "P4uO_se4hmtJ"
      }
    },
    {
      "cell_type": "markdown",
      "source": [
        "1. $\\int_0^1 (1 - x^2)^{\\frac{3}{2}} dx$"
      ],
      "metadata": {
        "id": "B3rX37DChuea"
      }
    },
    {
      "cell_type": "code",
      "execution_count": 54,
      "metadata": {
        "colab": {
          "base_uri": "https://localhost:8080/",
          "height": 282
        },
        "id": "CeA0_ZSIWCs3",
        "outputId": "777e0119-e892-4dcc-ab60-cedf901b4db4"
      },
      "outputs": [
        {
          "output_type": "stream",
          "name": "stdout",
          "text": [
            "El valor de la integral es: 0.58644\n"
          ]
        },
        {
          "output_type": "display_data",
          "data": {
            "text/plain": [
              "<Figure size 432x288 with 1 Axes>"
            ],
            "image/png": "[encoded data removed]"
          },
          "metadata": {
            "needs_background": "light"
          }
        }
      ],
      "source": [
        "import random                                   # importamos el módulo random\n",
        "import numpy as np                              # importamos numpy con un alias (np)\n",
        "import matplotlib.pyplot as plt                 # ídem\n",
        "from statistics import mean, median, variance, stdev      # exportamos funciones especificas de statistics\n",
        "#Definimos la función de prueba.\n",
        "def test_function(x):\n",
        "    return((1-x**2)**(3/2))\n",
        "def integrate(x1,x2,func=test_function,n=100000):\n",
        "    X=np.linspace(x1,x2,1000)\n",
        "    y1=0\n",
        "    y2=max((func(X)))\n",
        "    area=(x2-x1)*(y2-y1)\n",
        "    check=[]\n",
        "    xs=[]\n",
        "    ys=[]\n",
        "    for i in range(n):\n",
        "        x=np.random.uniform(x1,x2,1)\n",
        "        xs.append(x)\n",
        "        y=np.random.uniform(y1,y2,1)\n",
        "        ys.append(y)\n",
        "        if abs(y)>abs(func(x)) or y<0:\n",
        "            check.append(0)\n",
        "        else:\n",
        "            check.append(1)\n",
        "    return(np.mean(check)*area,xs,ys,check)\n",
        "I,x,y,c=integrate(0,1)\n",
        "print(\"El valor de la integral es:\",I)\n",
        "_,x,y,c=integrate(0,1,n=500)\n",
        "df=pd.DataFrame()\n",
        "df['x']=x\n",
        "df['y']=y\n",
        "df['c']=c\n",
        "\n",
        "X=np.linspace(0,1,1000)\n",
        "plt.grid(True)\n",
        "plt.plot(X,test_function(X))\n",
        "plt.scatter(df[df['c']==0]['x'],df[df['c']==0]['y'],color='red')\n",
        "plt.scatter(df[df['c']==1]['x'],df[df['c']==1]['y'],color='blue')\n",
        "plt.show()"
      ]
    },
    {
      "cell_type": "markdown",
      "source": [
        "2. $\\int_{-2}^2 \\exp (x + x^2) dx$"
      ],
      "metadata": {
        "id": "XBonqV-HhzvA"
      }
    },
    {
      "cell_type": "code",
      "source": [
        "#Esta función calcula la integral usando la ley de los grandes números, es decir,\n",
        "#la aproxima como el promedio del muestreo aleatorio.\n",
        "import random                                   # importamos el módulo random\n",
        "import numpy as np                              # importamos numpy con un alias (np)\n",
        "import matplotlib.pyplot as plt                 # ídem\n",
        "from statistics import mean, median, variance, stdev      # exportamos funciones especificas de statistics\n",
        "from math import exp\n",
        "#Definimos la función de prueba.\n",
        "def test_function(x):\n",
        "    return(exp(x+x**2))\n",
        "def integ(func=test_function, n=10000):\n",
        "    suma=[]\n",
        "    a=-2\n",
        "    b=2\n",
        "    for i in range(n):\n",
        "        u=random.uniform(a,b)\n",
        "        y=func(u)\n",
        "        suma.append(y)\n",
        "\n",
        "    return((b-a)*(np.mean(suma)))\n",
        "\n",
        "print(\"El valor de la integral es:\", integ())"
      ],
      "metadata": {
        "colab": {
          "base_uri": "https://localhost:8080/"
        },
        "id": "DFO0cixXiAU5",
        "outputId": "0567911f-15d7-450f-82d7-58554fd22458"
      },
      "execution_count": 63,
      "outputs": [
        {
          "output_type": "stream",
          "name": "stdout",
          "text": [
            "El valor de la integral es: 93.76398699945565\n"
          ]
        }
      ]
    }
  ]
}