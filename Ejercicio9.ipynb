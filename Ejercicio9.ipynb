{
  "nbformat": 4,
  "nbformat_minor": 0,
  "metadata": {
    "colab": {
      "name": "Ejercicio9.ipynb",
      "provenance": [],
      "collapsed_sections": [],
      "authorship_tag": "ABX9TyNFNgD8+DZmALDBKLa60j0+",
      "include_colab_link": true
    },
    "kernelspec": {
      "name": "python3",
      "display_name": "Python 3"
    },
    "language_info": {
      "name": "python"
    }
  },
  "cells": [
    {
      "cell_type": "markdown",
      "metadata": {
        "id": "view-in-github",
        "colab_type": "text"
      },
      "source": [
        "<a href=\"https://colab.research.google.com/github/AndreaMeza2800/SimulacionII/blob/main/Ejercicio9.ipynb\" target=\"_parent\"><img src=\"https://colab.research.google.com/assets/colab-badge.svg\" alt=\"Open In Colab\"/></a>"
      ]
    },
    {
      "cell_type": "markdown",
      "source": [
        "#Ejercicio:\n",
        "Andrea Leticia Meza Villa\n",
        "\n",
        "\n",
        "a)Elegir al azar una ciudad de la Lista despues de hacer una mezcla.\n",
        "b)Elegir al azar tres ciudades después de una mezcla."
      ],
      "metadata": {
        "id": "jlZ2MO0LWXNa"
      }
    },
    {
      "cell_type": "code",
      "execution_count": 19,
      "metadata": {
        "colab": {
          "base_uri": "https://localhost:8080/"
        },
        "id": "LozO1zdUVbNs",
        "outputId": "87820614-0480-4a6b-a948-7c84e68865a1"
      },
      "outputs": [
        {
          "output_type": "stream",
          "name": "stdout",
          "text": [
            "La ciudad elegida es : Toronto\n"
          ]
        }
      ],
      "source": [
        "# Ejercicio a) \n",
        "import random\n",
        "import numpy as np\n",
        "import matplotlib.pyplot as plt\n",
        "Lista = ['Rome','New York','London','Berlin','Moskov', 'Los Angeles','Paris','Madrid','Tokio','Toronto']\n",
        "random.shuffle(Lista)\n",
        "Ciudad = random.choice(Lista) \n",
        "print (\"La ciudad elegida es :\", Ciudad)"
      ]
    },
    {
      "cell_type": "code",
      "source": [
        "# Ejercicio b) \n",
        "import random\n",
        "import numpy as np\n",
        "import matplotlib.pyplot as plt\n",
        "Lista = ['Rome','New York','London','Berlin','Moskov', 'Los Angeles','Paris','Madrid','Tokio','Toronto']\n",
        "random.shuffle(Lista)\n",
        "Ciudad = random.sample(Lista, 3) \n",
        "print (\"Las ciudades elegidas son : \", Ciudad) "
      ],
      "metadata": {
        "colab": {
          "base_uri": "https://localhost:8080/"
        },
        "id": "IUrk71_jXNa2",
        "outputId": "54203420-4f71-4789-9e7e-ae25dca4ca8d"
      },
      "execution_count": 18,
      "outputs": [
        {
          "output_type": "stream",
          "name": "stdout",
          "text": [
            "Las ciudades elegidas son :  ['Los Angeles', 'Rome', 'New York']\n"
          ]
        }
      ]
    }
  ]
}