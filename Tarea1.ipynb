{
  "nbformat": 4,
  "nbformat_minor": 0,
  "metadata": {
    "colab": {
      "name": "Tarea1.ipynb",
      "provenance": [],
      "collapsed_sections": [],
      "authorship_tag": "ABX9TyORGbK6PvP0ezv5F6iFvodq",
      "include_colab_link": true
    },
    "kernelspec": {
      "name": "python3",
      "display_name": "Python 3"
    },
    "language_info": {
      "name": "python"
    }
  },
  "cells": [
    {
      "cell_type": "markdown",
      "metadata": {
        "id": "view-in-github",
        "colab_type": "text"
      },
      "source": [
        "<a href=\"https://colab.research.google.com/github/AndreaMeza2800/SimulacionII/blob/main/Tarea1.ipynb\" target=\"_parent\"><img src=\"https://colab.research.google.com/assets/colab-badge.svg\" alt=\"Open In Colab\"/></a>"
      ]
    },
    {
      "cell_type": "markdown",
      "source": [
        "# Tarea 1. Estimación del número $\\pi$\n",
        "Andrea Leticia Meza Villa\n",
        "\n",
        "Estimar el valor de pi usando la función random\n"
      ],
      "metadata": {
        "id": "jLIwYykNhVoq"
      }
    },
    {
      "cell_type": "code",
      "source": [
        "import random\n",
        "n=1000\n",
        "d=0\n",
        "for j in range (1,n+1):\n",
        "  x=random.random()\n",
        "  y=random.random()\n",
        "  if (x*x+y*y)<1:\n",
        "    d=d+1\n",
        "pi=(4*d)/n\n",
        "print(pi)"
      ],
      "metadata": {
        "colab": {
          "base_uri": "https://localhost:8080/"
        },
        "id": "PG5MZlPthqDZ",
        "outputId": "aeea3372-6ee2-4822-ec59-5e54fde70a82"
      },
      "execution_count": 7,
      "outputs": [
        {
          "output_type": "stream",
          "name": "stdout",
          "text": [
            "3.184\n"
          ]
        }
      ]
    }
  ]
}