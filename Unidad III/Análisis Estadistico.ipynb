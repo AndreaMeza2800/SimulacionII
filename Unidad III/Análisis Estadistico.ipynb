{
  "cells": [
    {
      "cell_type": "markdown",
      "metadata": {
        "id": "view-in-github",
        "colab_type": "text"
      },
      "source": [
        "<a href=\"https://colab.research.google.com/github/AndreaMeza2800/SimulacionII/blob/main/Unidad%20III/An%C3%A1lisis%20Estadistico.ipynb\" target=\"_parent\"><img src=\"https://colab.research.google.com/assets/colab-badge.svg\" alt=\"Open In Colab\"/></a>"
      ]
    },
    {
      "cell_type": "markdown",
      "metadata": {
        "id": "pxV3N4ZuXN6t"
      },
      "source": [
        "# <font color='blue'> Análisis Estadístico de Parámetros de Estado Estable "
      ]
    },
    {
      "cell_type": "markdown",
      "metadata": {
        "id": "iryjkHfYXN60"
      },
      "source": [
        "Por lo general, los estudios de simulación se realizan para determinar el valor de cierta cantidad $\\theta$ relacionada con el modelo estocástico particular. Una simulación del sistema en cuestión produce los datos de salida $X$, una variable aleatoria cuyo valor esperado es la cantidad de interés $\\theta$, y se realiza durante $n$ ejecuciones. "
      ]
    },
    {
      "cell_type": "markdown",
      "metadata": {
        "id": "s03jqmbmXN63"
      },
      "source": [
        "El promedio de estos $n$ valores, "
      ]
    },
    {
      "cell_type": "markdown",
      "metadata": {
        "id": "zP4FaYXDXN64"
      },
      "source": [
        "<font color='red'>$$\\bar{X} = \\sum_{i=1}^n \\frac{X_i}{n}$$"
      ]
    },
    {
      "cell_type": "markdown",
      "metadata": {
        "id": "ML0DKOuxXN65"
      },
      "source": [
        "sirve como estimador, o aproximador de $\\theta$. Este promedio aritmético es la **media muestral**."
      ]
    },
    {
      "cell_type": "markdown",
      "metadata": {
        "id": "IyCnG3VpXN66"
      },
      "source": [
        "Para determinar la \"bondad\" de $\\bar{X}$ como estimador de la media poblacional $\\theta$, consideramos el error cuadrático medio:"
      ]
    },
    {
      "cell_type": "markdown",
      "metadata": {
        "id": "J7JTf4fhXN66"
      },
      "source": [
        "$$\\mathbb{E}[(\\bar{X}-\\theta)^2]=\\mathbb{Var}(\\bar{X})=\\frac{\\sigma^2}{n}$$"
      ]
    },
    {
      "cell_type": "markdown",
      "metadata": {
        "id": "0TwFxRd8XN67"
      },
      "source": [
        "donde $\\mathbb{E}[\\bar{X}]=\\theta$ y $\\mathbb{Var}(X_i)=\\sigma^2$"
      ]
    },
    {
      "cell_type": "markdown",
      "metadata": {
        "id": "wDrA31LgXN68"
      },
      "source": [
        "Entonces, $\\bar{X}$ es un buen estimador de $\\theta$ cuando $\\frac{\\sigma}{\\sqrt{n}}$ es pequeño."
      ]
    },
    {
      "cell_type": "markdown",
      "metadata": {
        "id": "aJkfUIYLXN69"
      },
      "source": [
        "La dificultad de este indicador de bondad es que por lo general no se conoce la varianza poblacional $\\sigma^2$, así que también debe estimarse."
      ]
    },
    {
      "cell_type": "markdown",
      "metadata": {
        "id": "aG_xkl1-XN6_"
      },
      "source": [
        "Para ello se usa la varianza muestral, $S^2$:"
      ]
    },
    {
      "cell_type": "markdown",
      "metadata": {
        "id": "Xy_pkAdrXN7B"
      },
      "source": [
        "<font color='red'>$$S^2=\\frac{\\sum_{i=1}^n (X_i-\\bar{X})^2}{n-1}$$"
      ]
    },
    {
      "cell_type": "markdown",
      "metadata": {
        "id": "3DUHQ40fXN7C"
      },
      "source": [
        "$S^2$ es la **varianza poblacional** y $s=\\sqrt{S^2}$ es la **desviación estándar muestral**."
      ]
    },
    {
      "cell_type": "markdown",
      "metadata": {
        "id": "wcx7n6sHXN7C"
      },
      "source": [
        "### <font color='blue'> Ejercicio"
      ]
    },
    {
      "cell_type": "markdown",
      "metadata": {
        "id": "c-lW6D8NXN7D"
      },
      "source": [
        "Estimemos el valor de la integral $\\int_0^1 \\sqrt( \\arctan x ) dx$."
      ]
    },
    {
      "cell_type": "markdown",
      "metadata": {
        "id": "bfn7wpWiXN7D"
      },
      "source": [
        "Modificar el ejercicio ya realizado para obtener una estimación de la integral y una medida de su bondad. "
      ]
    },
    {
      "cell_type": "code",
      "execution_count": null,
      "metadata": {
        "id": "KGnfYw9sXN7F"
      },
      "outputs": [],
      "source": [
        ""
      ]
    },
    {
      "cell_type": "code",
      "execution_count": null,
      "metadata": {
        "id": "dQakFMw4XN7H"
      },
      "outputs": [],
      "source": [
        "import numpy as np\n",
        "import matplotlib.pyplot as plt"
      ]
    },
    {
      "cell_type": "code",
      "execution_count": null,
      "metadata": {
        "id": "YUj5fdXtXN7I"
      },
      "outputs": [],
      "source": [
        "#Definimos la función de prueba.\n",
        "def funcion(x):\n",
        "    return np.sqrt(np.arctan(x)) "
      ]
    },
    {
      "cell_type": "code",
      "execution_count": null,
      "metadata": {
        "id": "fWE1guJ-XN7J"
      },
      "outputs": [],
      "source": [
        "#Graficamos la función de prueba.\n",
        "X=np.linspace(0,1,1000)\n",
        "plt.plot(X,funcion(X), color='red', label=\"$y=1/(1+x)$\")\n",
        "#plt.fill_between(X,funcion(X))\n",
        "plt.legend()\n",
        "plt.xlim(0.0, 1.2)\n",
        "plt.ylim(0.0, 1.2)\n",
        "plt.grid(True)\n",
        "plt.title('Función de prueba', color='b')\n",
        "plt.xlabel('X')\n",
        "plt.ylabel('Y')\n",
        "plt.show()"
      ]
    },
    {
      "cell_type": "code",
      "execution_count": null,
      "metadata": {
        "id": "33HKDHNEXN7L"
      },
      "outputs": [],
      "source": [
        "def integ(func=funcion, n=3000):\n",
        "    muestreo=[]\n",
        "    suma=[]\n",
        "    for i in range(n):\n",
        "        u= np.random.random_sample()\n",
        "        muestreo.append(u)\n",
        "        y=funcion(u)\n",
        "        suma.append(y)\n",
        "\n",
        "    return np.mean(suma), np.std(suma)\n",
        "\n",
        "print(\"El valor de la integral es:\", round(integ()[0],5))\n",
        "print(\"El error estándar es:\", round(integ()[1],5))"
      ]
    },
    {
      "cell_type": "code",
      "execution_count": null,
      "metadata": {
        "id": "12a8iJ2OXN7M"
      },
      "outputs": [],
      "source": [
        ""
      ]
    },
    {
      "cell_type": "markdown",
      "metadata": {
        "id": "93nzFyjxXN7M"
      },
      "source": [
        "### Método para determinar cuando detenerse al generar nuevos datos"
      ]
    },
    {
      "cell_type": "markdown",
      "metadata": {
        "id": "w4et94DxXN7N"
      },
      "source": [
        "1. Elegir un valor aceptable $d$ para la desviación estándar del estimador.\n",
        "\n",
        "2. Generar al menos 30 datos.\n",
        "\n",
        "3. Continuar generando más datos, hasta detenerse cuando se hayan generado $k$ valores y $\\frac{S}{\\sqrt{k}}<d$, donde $S$ es la desviación estándar muestral basada en estos $k$ valores.\n",
        "\n",
        "4. La estimación de $\\theta$ está dada por $\\bar{X}=\\sum_{i=1}^k \\frac{X-i}{k}$."
      ]
    },
    {
      "cell_type": "markdown",
      "metadata": {
        "id": "q377Il3QXN7Q"
      },
      "source": [
        "# <font color='blue'> Intervalos de Confianza"
      ]
    },
    {
      "cell_type": "markdown",
      "metadata": {
        "id": "bE_GV_PyXN7R"
      },
      "source": [
        "El intervalo de confianza a $((1-\\alpha) \\times 100)$ % para una población de media $\\mu$ está dado por la fórmula:"
      ]
    },
    {
      "cell_type": "markdown",
      "metadata": {
        "id": "_76msqB2XN7S"
      },
      "source": [
        "$$\\bar{x} \\pm t \\times \\frac{s}{\\sqrt{n}},$$"
      ]
    },
    {
      "cell_type": "markdown",
      "metadata": {
        "id": "5QTvL0ENXN7T"
      },
      "source": [
        "donde:\n",
        "\n",
        "$t$ es una variable aleatoria que tiene una distribución t de Student con $(n-1)$ grados de libertad.\n",
        "\n",
        "$\\bar{x}$ es la media muestral\n",
        "\n",
        "$s$ es la desviación estándar muestral\n",
        "\n",
        "$n$ es el tamaño de la muestra\n",
        "\n",
        "$\\alpha$ es el nivel de significancia \n",
        "\n",
        "$(1 - \\alpha)$ es el nivel de confianza"
      ]
    },
    {
      "cell_type": "code",
      "execution_count": null,
      "metadata": {
        "id": "gFa0W-vwXN7U"
      },
      "outputs": [],
      "source": [
        ""
      ]
    },
    {
      "cell_type": "code",
      "execution_count": null,
      "metadata": {
        "id": "ywwIpBc9XN7V"
      },
      "outputs": [],
      "source": [
        ""
      ]
    },
    {
      "cell_type": "code",
      "execution_count": 1,
      "metadata": {
        "id": "BgEjxYB3XN7V"
      },
      "outputs": [],
      "source": [
        "import statistics as stat\n",
        "import math"
      ]
    },
    {
      "cell_type": "code",
      "execution_count": 2,
      "metadata": {
        "id": "T_8trslpXN7W"
      },
      "outputs": [],
      "source": [
        "muestra = [3.2, 3, 2.8, 2.9, 3.1]"
      ]
    },
    {
      "cell_type": "code",
      "execution_count": 5,
      "metadata": {
        "colab": {
          "base_uri": "https://localhost:8080/"
        },
        "id": "xDZ4eqfYXN7X",
        "outputId": "61939d0e-b516-4559-c011-97629e09be01"
      },
      "outputs": [
        {
          "output_type": "stream",
          "name": "stdout",
          "text": [
            "Media: 3.0\n",
            "Desviación estandar: 0.1581138830084191\n",
            "Intervalo de confianza: 2.8 3.2\n"
          ]
        }
      ],
      "source": [
        "n=len(muestra)             # cantidad de datos\n",
        "mean=stat.mean(muestra)    # media muestral\n",
        "s=stat.stdev(muestra)      # desviacion estandar muestral\n",
        "\n",
        "t=2.776                    # para un nivel de confianza al 95%\n",
        "\n",
        "# usamos las formulas\n",
        "ic1 = mean - t*(s/math.sqrt(n))     \n",
        "ic2 = mean + t*(s/math.sqrt(n))\n",
        "\n",
        "print(\"Media:\",mean)\n",
        "print(\"Desviación estandar:\",s)\n",
        "print(\"Intervalo de confianza:\", round(ic1, 2), round(ic2, 2))"
      ]
    },
    {
      "cell_type": "code",
      "source": [
        "S=((3.2-3.0)**2+(3.0-3.0)**2+(2.8-3.0)**2+(2.9-3.0)**2+(3.1-3.0)**2)/(len(muestra)-1) #Varianza muestral \n",
        "print(math.sqrt(S))"
      ],
      "metadata": {
        "colab": {
          "base_uri": "https://localhost:8080/"
        },
        "id": "ymj9rlTKZdAi",
        "outputId": "1762ba47-95c7-4051-f951-c07a25175bbf"
      },
      "execution_count": 14,
      "outputs": [
        {
          "output_type": "stream",
          "name": "stdout",
          "text": [
            "0.1581138830084191\n"
          ]
        }
      ]
    },
    {
      "cell_type": "markdown",
      "metadata": {
        "id": "6LB4YRPtXN7Y"
      },
      "source": [
        "### Ejercicio:\n",
        "\n",
        "1. Hacer una función que devuelva el intervalo de confianza.\n",
        "\n",
        "2. Calcular los intervalos de confianza a 80, 90, 95, 98 y 99% con la muestra:\n",
        "\n",
        "  $\\{3.33, \\; 3.15,\\; 2.91,\\; 3.05,\\; 2.75 \\}$"
      ]
    },
    {
      "cell_type": "code",
      "execution_count": 43,
      "metadata": {
        "id": "oYEEIbZ7XN7Y"
      },
      "outputs": [],
      "source": [
        "def desvest(muestra,t):\n",
        "  n=len(muestra)             # cantidad de datos\n",
        "  mean=stat.mean(muestra)    # media muestral\n",
        "  s=stat.stdev(muestra)      # desviacion estandar muestral\n",
        "\n",
        "  # usamos las formulas\n",
        "  ic1 = mean - t*(s/math.sqrt(n))     \n",
        "  ic2 = mean + t*(s/math.sqrt(n))\n",
        "  intervalo=[round(ic1, 2), round(ic2, 2)]\n",
        "  return(intervalo)\n",
        "  #print(\"Intervalo de confianza:\", intervalo)"
      ]
    },
    {
      "cell_type": "code",
      "source": [
        "muestra=[3.33,3.15,2.91,3.05,2.75]\n",
        "\n",
        "#Intervalo de cofianza en 80%\n",
        "desvest(muestra,.9195)"
      ],
      "metadata": {
        "colab": {
          "base_uri": "https://localhost:8080/"
        },
        "id": "7E44p640b7fN",
        "outputId": "8a5da041-b42e-4708-c4bf-9dffc5427f6b"
      },
      "execution_count": 44,
      "outputs": [
        {
          "output_type": "execute_result",
          "data": {
            "text/plain": [
              "[2.95, 3.13]"
            ]
          },
          "metadata": {},
          "execution_count": 44
        }
      ]
    },
    {
      "cell_type": "code",
      "source": [
        "#Intervalo de cofianza en 90%\n",
        "desvest(muestra,1.4759)"
      ],
      "metadata": {
        "colab": {
          "base_uri": "https://localhost:8080/"
        },
        "id": "f9Z7Yi6rgQ6t",
        "outputId": "73e781cc-2789-4f10-daa8-119bb89c2c10"
      },
      "execution_count": 45,
      "outputs": [
        {
          "output_type": "execute_result",
          "data": {
            "text/plain": [
              "[2.89, 3.18]"
            ]
          },
          "metadata": {},
          "execution_count": 45
        }
      ]
    },
    {
      "cell_type": "code",
      "source": [
        "#Intervalo de cofianza en 95%\n",
        "desvest(muestra,2.0150)"
      ],
      "metadata": {
        "colab": {
          "base_uri": "https://localhost:8080/"
        },
        "id": "xrr5OaJNgX27",
        "outputId": "6b874d6f-2b04-4a4a-bbc1-38c8fe158740"
      },
      "execution_count": 46,
      "outputs": [
        {
          "output_type": "execute_result",
          "data": {
            "text/plain": [
              "[2.84, 3.24]"
            ]
          },
          "metadata": {},
          "execution_count": 46
        }
      ]
    },
    {
      "cell_type": "code",
      "source": [
        "#Intervalo de cofianza en 98%\n",
        "desvest(muestra,3.3649)\n"
      ],
      "metadata": {
        "colab": {
          "base_uri": "https://localhost:8080/"
        },
        "id": "qOD2u41Sgb-6",
        "outputId": "1c44ba87-9396-45f5-cfe6-2b42841258dc"
      },
      "execution_count": 47,
      "outputs": [
        {
          "output_type": "execute_result",
          "data": {
            "text/plain": [
              "[2.7, 3.37]"
            ]
          },
          "metadata": {},
          "execution_count": 47
        }
      ]
    },
    {
      "cell_type": "code",
      "source": [
        "#Intervalo de cofianza en 99%\n",
        "desvest(muestra,4.0321)"
      ],
      "metadata": {
        "colab": {
          "base_uri": "https://localhost:8080/"
        },
        "id": "Ip4PJLWbgeCS",
        "outputId": "c6724c7b-1779-4316-db48-db9b0cba31cd"
      },
      "execution_count": 48,
      "outputs": [
        {
          "output_type": "execute_result",
          "data": {
            "text/plain": [
              "[2.64, 3.44]"
            ]
          },
          "metadata": {},
          "execution_count": 48
        }
      ]
    }
  ],
  "metadata": {
    "kernelspec": {
      "display_name": "Python 3",
      "language": "python",
      "name": "python3"
    },
    "language_info": {
      "codemirror_mode": {
        "name": "ipython",
        "version": 3
      },
      "file_extension": ".py",
      "mimetype": "text/x-python",
      "name": "python",
      "nbconvert_exporter": "python",
      "pygments_lexer": "ipython3",
      "version": "3.7.3"
    },
    "colab": {
      "name": "Análisis Estadistico.ipynb",
      "provenance": [],
      "include_colab_link": true
    }
  },
  "nbformat": 4,
  "nbformat_minor": 0
}