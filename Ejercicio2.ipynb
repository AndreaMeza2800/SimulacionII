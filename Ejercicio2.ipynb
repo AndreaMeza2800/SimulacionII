{
  "nbformat": 4,
  "nbformat_minor": 0,
  "metadata": {
    "colab": {
      "name": "Ejercicio2.ipynb",
      "provenance": [],
      "collapsed_sections": [],
      "authorship_tag": "ABX9TyMkfaeRl/5QFtMONc2g1X2Z",
      "include_colab_link": true
    },
    "kernelspec": {
      "name": "python3",
      "display_name": "Python 3"
    },
    "language_info": {
      "name": "python"
    }
  },
  "cells": [
    {
      "cell_type": "markdown",
      "metadata": {
        "id": "view-in-github",
        "colab_type": "text"
      },
      "source": [
        "<a href=\"https://colab.research.google.com/github/AndreaMeza2800/SimulacionII/blob/main/Ejercicio2.ipynb\" target=\"_parent\"><img src=\"https://colab.research.google.com/assets/colab-badge.svg\" alt=\"Open In Colab\"/></a>"
      ]
    },
    {
      "cell_type": "markdown",
      "source": [
        "#Ejercicio 2:\n",
        "a) Simular un sorteo de los colores blanco, negro, rojo, azul y verde.\n",
        "b) Simular 5 sorteos con sustitución.\n",
        "\n",
        "Andrea Leticia Meza Villa"
      ],
      "metadata": {
        "id": "krDkJAjwuj02"
      }
    },
    {
      "cell_type": "code",
      "source": [
        "#Ejercicio b Andrea Leticia Meza Villa\n",
        "import random\n",
        "L=['Blanco','Negro','Rojo','Azul','Verde']\n",
        "l=5\n",
        "while l>0:\n",
        "  c=random.randint(0,4)\n",
        "  h=L[c]\n",
        "  print(h)\n",
        "  l=l-1"
      ],
      "metadata": {
        "colab": {
          "base_uri": "https://localhost:8080/"
        },
        "id": "fRtez7JYqFdV",
        "outputId": "da305c30-171a-423d-fcfe-893e4688d27c"
      },
      "execution_count": 55,
      "outputs": [
        {
          "output_type": "stream",
          "name": "stdout",
          "text": [
            "Rojo\n",
            "Azul\n",
            "Negro\n",
            "Negro\n",
            "Blanco\n"
          ]
        }
      ]
    },
    {
      "cell_type": "code",
      "execution_count": 52,
      "metadata": {
        "colab": {
          "base_uri": "https://localhost:8080/"
        },
        "id": "_WSAagACpfYr",
        "outputId": "d97d2c53-3329-4dfa-ebce-29a1b3c81419"
      },
      "outputs": [
        {
          "output_type": "stream",
          "name": "stdout",
          "text": [
            "Verde\n"
          ]
        }
      ],
      "source": [
        "#Ejercicio a Andrea Leticia Meza Villa\n",
        "import random\n",
        "c=random.randint(1,5)\n",
        "if c==1:\n",
        "  print(\"Blanco\")\n",
        "elif c==2:\n",
        "  print(\"Negro\")\n",
        "elif c==3:\n",
        "  print(\"Rojo\")\n",
        "elif c==4:\n",
        "  print (\"Azul\")\n",
        "else:\n",
        "  print (\"Verde\")"
      ]
    }
  ]
}