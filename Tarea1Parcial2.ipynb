{
  "nbformat": 4,
  "nbformat_minor": 0,
  "metadata": {
    "colab": {
      "name": "Tarea1Parcial2.ipynb",
      "provenance": [],
      "collapsed_sections": [],
      "authorship_tag": "ABX9TyPt8nkZVOwQp+SjHCPEqP6X",
      "include_colab_link": true
    },
    "kernelspec": {
      "name": "python3",
      "display_name": "Python 3"
    },
    "language_info": {
      "name": "python"
    }
  },
  "cells": [
    {
      "cell_type": "markdown",
      "metadata": {
        "id": "view-in-github",
        "colab_type": "text"
      },
      "source": [
        "<a href=\"https://colab.research.google.com/github/AndreaMeza2800/SimulacionII/blob/main/Tarea1Parcial2.ipynb\" target=\"_parent\"><img src=\"https://colab.research.google.com/assets/colab-badge.svg\" alt=\"Open In Colab\"/></a>"
      ]
    },
    {
      "cell_type": "markdown",
      "source": [
        "#Línea de espera con un servidor\n",
        "\n",
        "Andrea Leticia Meza Villa"
      ],
      "metadata": {
        "id": "tBunP3XGWrwE"
      }
    },
    {
      "cell_type": "code",
      "execution_count": 2,
      "metadata": {
        "colab": {
          "base_uri": "https://localhost:8080/",
          "height": 386
        },
        "id": "PJswt_O3BWZx",
        "outputId": "9d80aeac-f031-4bbc-ac0c-7cba4d822904"
      },
      "outputs": [
        {
          "output_type": "stream",
          "name": "stdout",
          "text": [
            "Tiempos de llegada\n",
            "[2.2230060729023378, 4.267953783239829, 5.138041371579569, 5.3350336146742805, 5.76579214070852, 7.609002915755224, 9.254005390597996, 9.38417980403724, 9.431589379664294]\n",
            "Tiempos de salida\n",
            "[2.296573320625306, 5.773490910629664, 6.105956755812164, 6.512502865916751, 10.887804760952136, 14.586366387132042, 33.877860032424834, 33.89283589322062, 35.53415644286096]\n"
          ]
        },
        {
          "output_type": "execute_result",
          "data": {
            "text/plain": [
              "Text(0, 0.5, 'Clientes en  sistema ')"
            ]
          },
          "metadata": {},
          "execution_count": 2
        },
        {
          "output_type": "display_data",
          "data": {
            "text/plain": [
              "<Figure size 432x288 with 1 Axes>"
            ],
            "image/png": "[encoded data removed]"
          },
          "metadata": {
            "needs_background": "light"
          }
        }
      ],
      "source": [
        "from random import expovariate\n",
        "from math import inf as Infinity\n",
        "import matplotlib.pyplot as plt\n",
        "\n",
        "tpll = 2.0                      # Tiempo de inter arrivo promedio\n",
        "tps = 2.0                       # Tiempo de servicio promedio\n",
        "T = 10.0                        # Tiempo total de la simulación\n",
        "t = 0.0                         # Tiempo de simulación actual\n",
        "tA=expovariate(1.0/tpll)        # Tiempo de arrivo del cliente\n",
        "tD = Infinity                   # Tiempo de salida del cliente\n",
        "N = 0                           # Variable de estado: número de clientes en el sistema\n",
        "NA=0                            # Numero de llegadas hasta el instante t\n",
        "ND=0                            # Numero de salidas hasta el instante t\n",
        "A=[]                            # Registro de hora de llegadas\n",
        "D=[]                            # Registro de hora de salidas\n",
        "X=[]                            #Tiempo\n",
        "Y=[]                            #Evento \n",
        "while t <= T:\n",
        "    if tA < tD:                                  # Evento de arrivo \n",
        "        t = tA        #Se mueve hasta el tiempo tA\n",
        "        NA= NA + 1.0    #Llegada en el instante tA\n",
        "        N = N + 1.0   #Se suma un cliente\n",
        "        tA = t + expovariate(1.0/tpll)  #Tiempo del siguiente arrivo \n",
        "        if N == 1:\n",
        "            tD = t + expovariate(1.0/tps) #Tiempo de de la siguiente salida\n",
        "        A.append(t)\n",
        "        X.append(t)\n",
        "        Y.append(N)\n",
        "    else:                                                    # Evento de salida\n",
        "        t = tD\n",
        "        N = N - 1.0  #Se va el cliente \n",
        "        ND= ND+1.0    #Salida en el instante tD\n",
        "        if N > 0:\n",
        "            tD = t + expovariate(1.0/tps)\n",
        "        else:\n",
        "            tD = Infinity\n",
        "        D.append(t)\n",
        "        X.append(t)\n",
        "        Y.append(N)\n",
        "\n",
        "while N>0: # t > T  #Termina el tiempo de simulación (Ya no recibe mas arrivo de clientes)\n",
        "  t=tD\n",
        "  N=N-1 #Salen ultimos clientes\n",
        "  ND= ND+1.0\n",
        "  if N > 0:\n",
        "    tD = t + expovariate(1.0/tps)\n",
        "  else:\n",
        "    tD = Infinity\n",
        "  D.append(t)\n",
        "  X.append(t)\n",
        "  Y.append(N)\n",
        "\n",
        "#Ya ha salido ultimo cliente \n",
        "print(\"Tiempos de llegada\")\n",
        "print(A)\n",
        "print(\"Tiempos de salida\")\n",
        "print(D)\n",
        "Tp=t-T\n",
        "#print(\"Tiempo de salida despues de tiempo de servicio\")\n",
        "#print(Tp)\n",
        "plt.plot(X, Y, drawstyle='steps-post')\n",
        "plt.xlabel('Tiempo')\n",
        "plt.ylabel('Clientes en  sistema ')\n",
        "#print(X)\n",
        "#print(Y)"
      ]
    }
  ]
}