{
  "nbformat": 4,
  "nbformat_minor": 0,
  "metadata": {
    "colab": {
      "name": "Tarea4.ipynb",
      "provenance": [],
      "collapsed_sections": [],
      "authorship_tag": "ABX9TyNxz/MfmSsRDxgc7wp27yeb",
      "include_colab_link": true
    },
    "kernelspec": {
      "name": "python3",
      "display_name": "Python 3"
    },
    "language_info": {
      "name": "python"
    }
  },
  "cells": [
    {
      "cell_type": "markdown",
      "metadata": {
        "id": "view-in-github",
        "colab_type": "text"
      },
      "source": [
        "<a href=\"https://colab.research.google.com/github/AndreaMeza2800/SimulacionII/blob/main/Tarea4.ipynb\" target=\"_parent\"><img src=\"https://colab.research.google.com/assets/colab-badge.svg\" alt=\"Open In Colab\"/></a>"
      ]
    },
    {
      "cell_type": "markdown",
      "source": [
        "#Tarea 4\n",
        "Andrea Leticia Meza Villa\n",
        "\n",
        "\n",
        "Elaborar un código en Python para generar una distribución normal por el método de las doce uniformes (usar la función random( )). Hacer el histograma y comparar con el generado por la función gauss( )."
      ],
      "metadata": {
        "id": "zLyOkbElOV4E"
      }
    },
    {
      "cell_type": "code",
      "execution_count": 26,
      "metadata": {
        "colab": {
          "base_uri": "https://localhost:8080/",
          "height": 545
        },
        "id": "tydIhKmwI6OJ",
        "outputId": "72b66c4c-f81d-4627-9032-8356e1a0c71d"
      },
      "outputs": [
        {
          "output_type": "display_data",
          "data": {
            "image/png": "[encoded data removed]",
            "text/plain": [
              "<Figure size 432x288 with 1 Axes>"
            ]
          },
          "metadata": {
            "needs_background": "light"
          }
        },
        {
          "output_type": "display_data",
          "data": {
            "image/png": "[encoded data removed]",
            "text/plain": [
              "<Figure size 432x288 with 1 Axes>"
            ]
          },
          "metadata": {
            "needs_background": "light"
          }
        }
      ],
      "source": [
        "#Metodo de las doce uniformes\n",
        "import random\n",
        "import numpy as np\n",
        "import matplotlib.pyplot as plt\n",
        "mu=180\n",
        "sigma=15\n",
        "N=7000\n",
        "nums=[]\n",
        "for j in range(N):\n",
        "  suma=0\n",
        "  for i in range(12):\n",
        "    a=random.random()\n",
        "    suma=suma+a\n",
        "  x=mu+sigma*(suma-6)\n",
        "  nums.append(x)\n",
        "plt.hist(nums, bins = 200)\n",
        "plt.title(\"Metodo de las doce uniformes\")\n",
        "plt.show()\n",
        "num=[]\n",
        "# función gauss( )\n",
        "for i in range(N):\n",
        "    temp = random.gauss(mu, sigma)\n",
        "    num.append(temp)\n",
        "plt.hist(num, bins = 200)\n",
        "plt.title(\"Funcion gauss()\")\n",
        "plt.show()"
      ]
    },
    {
      "cell_type": "code",
      "source": [
        ""
      ],
      "metadata": {
        "id": "AsNmIdW3M3dw"
      },
      "execution_count": null,
      "outputs": []
    }
  ]
}