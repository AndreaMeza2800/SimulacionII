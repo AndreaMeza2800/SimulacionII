{
  "nbformat": 4,
  "nbformat_minor": 0,
  "metadata": {
    "colab": {
      "name": "Ejercicio11.ipynb",
      "provenance": [],
      "collapsed_sections": [],
      "authorship_tag": "ABX9TyNWq+pCm9/G1bRijq7cXdVX",
      "include_colab_link": true
    },
    "kernelspec": {
      "name": "python3",
      "display_name": "Python 3"
    },
    "language_info": {
      "name": "python"
    }
  },
  "cells": [
    {
      "cell_type": "markdown",
      "metadata": {
        "id": "view-in-github",
        "colab_type": "text"
      },
      "source": [
        "<a href=\"https://colab.research.google.com/github/AndreaMeza2800/SimulacionII/blob/main/Ejercicio11.ipynb\" target=\"_parent\"><img src=\"https://colab.research.google.com/assets/colab-badge.svg\" alt=\"Open In Colab\"/></a>"
      ]
    },
    {
      "cell_type": "markdown",
      "source": [
        "#Ejercicio 11 (03032022):\n",
        "Andrea Leticia Meza Villa\n",
        "\n",
        "\n",
        "Simular dos distribuciones de probabilidad (no la normal, no la exponencial), por el método que prefieran."
      ],
      "metadata": {
        "id": "dQWImGhkOmqo"
      }
    },
    {
      "cell_type": "code",
      "execution_count": 32,
      "metadata": {
        "colab": {
          "base_uri": "https://localhost:8080/",
          "height": 513
        },
        "id": "Oz-gC9Uo1Pos",
        "outputId": "1b0ed947-0a64-44c9-c866-c96e980d4eda"
      },
      "outputs": [
        {
          "output_type": "display_data",
          "data": {
            "text/plain": [
              "<Figure size 432x288 with 1 Axes>"
            ],
            "image/png": "[encoded data removed]"
          },
          "metadata": {
            "needs_background": "light"
          }
        },
        {
          "output_type": "display_data",
          "data": {
            "text/plain": [
              "<Figure size 432x288 with 1 Axes>"
            ],
            "image/png": "[encoded data removed]"
          },
          "metadata": {
            "needs_background": "light"
          }
        }
      ],
      "source": [
        "import random                                   # importamos el módulo random\n",
        "import numpy as np                              # importamos numpy con un alias (np)\n",
        "import matplotlib.pyplot as plt   \n",
        "\n",
        "#Generamos una lista de números aleatorios que siguen la distribución de weibull\n",
        "nums = []\n",
        "a=1.5\n",
        "b=1.5\n",
        "\n",
        "for i in range(10000):\n",
        "    X = b*((-np.log(1-random.random()))**(1/a))    #Generamos la variable aleatoria X  con el metodo de la tranformada inversa\n",
        "    nums.append(X)\n",
        "\n",
        "plt.hist(nums, bins = 100)\n",
        "plt.show()\n",
        "#Comparamos con la funcion weibullvariate\n",
        "for i in range(10000):\n",
        "    temp = random.weibullvariate(a,b)\n",
        "    nums.append(temp)\n",
        "plt.hist(nums, bins = 100)\n",
        "plt.show()"
      ]
    },
    {
      "cell_type": "code",
      "source": [
        "import random                                   # importamos el módulo random\n",
        "import numpy as np                              # importamos numpy con un alias (np)\n",
        "import matplotlib.pyplot as plt   \n",
        "\n",
        "#Generamos una lista de números aleatorios que siguen la distribución de bernoulli\n",
        "nums = []\n",
        "p=.5\n",
        "\n",
        "for i in range(10000):\n",
        "    U=random.random()\n",
        "    if U<=(1-p):\n",
        "      X=0\n",
        "    else:\n",
        "      X=1\n",
        "    nums.append(X)\n",
        "\n",
        "plt.hist(nums, bins = 20)\n",
        "plt.show()"
      ],
      "metadata": {
        "colab": {
          "base_uri": "https://localhost:8080/",
          "height": 265
        },
        "id": "aMYbM_XuK58l",
        "outputId": "ec6d582b-be42-4120-9892-39ba245e59f1"
      },
      "execution_count": 31,
      "outputs": [
        {
          "output_type": "display_data",
          "data": {
            "text/plain": [
              "<Figure size 432x288 with 1 Axes>"
            ],
            "image/png": "[encoded data removed]"
          },
          "metadata": {
            "needs_background": "light"
          }
        }
      ]
    }
  ]
}