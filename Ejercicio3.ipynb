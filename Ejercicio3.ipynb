{
  "nbformat": 4,
  "nbformat_minor": 0,
  "metadata": {
    "colab": {
      "name": "Ejercicio3.ipynb",
      "provenance": [],
      "collapsed_sections": [],
      "authorship_tag": "ABX9TyOYsEKU+Ivj3Od6Azkk1yym",
      "include_colab_link": true
    },
    "kernelspec": {
      "name": "python3",
      "display_name": "Python 3"
    },
    "language_info": {
      "name": "python"
    }
  },
  "cells": [
    {
      "cell_type": "markdown",
      "metadata": {
        "id": "view-in-github",
        "colab_type": "text"
      },
      "source": [
        "<a href=\"https://colab.research.google.com/github/AndreaMeza2800/SimulacionII/blob/main/Ejercicio3.ipynb\" target=\"_parent\"><img src=\"https://colab.research.google.com/assets/colab-badge.svg\" alt=\"Open In Colab\"/></a>"
      ]
    },
    {
      "cell_type": "markdown",
      "source": [
        "# Ejercicio 3:\n",
        "Andrea Leticia Meza Villa\n",
        "\n",
        "Graficar las salidas obtenidas en la Tarea 1"
      ],
      "metadata": {
        "id": "-I4Iu12YTJkV"
      }
    },
    {
      "cell_type": "code",
      "source": [
        "import random\n",
        "import matplotlib.pyplot as plt\n",
        "def pi_tarea1(n):\n",
        "  d=0\n",
        "  L=[]\n",
        "  for j in range (1,n+1):\n",
        "    x=random.random()\n",
        "    y=random.random()\n",
        "    if (x*x+y*y)<1:\n",
        "      d=d+1\n",
        "      pi=(4*d)/(j+1)\n",
        "      L.append(pi)\n",
        "  print(pi)\n",
        "  plt.plot(L, color = \"red\", markersize=1)\n",
        "  plt.xlabel(\"Iteraciones\")\n",
        "  plt.ylabel(\"Estimación\")\n",
        "  plt.grid()\n",
        "  plt.show()\n",
        "pi_tarea1(200)"
      ],
      "metadata": {
        "colab": {
          "base_uri": "https://localhost:8080/",
          "height": 296
        },
        "id": "q4CVVDniRKNM",
        "outputId": "f6cdfb9e-f7e6-488b-a8c5-bbcebc82174a"
      },
      "execution_count": 23,
      "outputs": [
        {
          "output_type": "stream",
          "name": "stdout",
          "text": [
            "3.08\n"
          ]
        },
        {
          "output_type": "display_data",
          "data": {
            "image/png": "[encoded data removed]",
            "text/plain": [
              "<Figure size 432x288 with 1 Axes>"
            ]
          },
          "metadata": {
            "needs_background": "light"
          }
        }
      ]
    }
  ]
}