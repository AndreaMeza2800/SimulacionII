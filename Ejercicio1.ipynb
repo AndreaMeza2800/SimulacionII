{
  "nbformat": 4,
  "nbformat_minor": 0,
  "metadata": {
    "colab": {
      "name": "Ejercicio1.ipynb",
      "provenance": [],
      "collapsed_sections": []
    },
    "kernelspec": {
      "name": "python3",
      "display_name": "Python 3"
    },
    "language_info": {
      "name": "python"
    }
  },
  "cells": [
    {
      "cell_type": "markdown",
      "source": [
        "## Ejercicio 1\n",
        "*Andrea Leticia Meza Villa*\\\n",
        "\\\n",
        "a)Usar la función random() para simular 1 volado.\\\n",
        "b)Usar la función random() para simular 1000 volados.\\\n",
        "c)Determinar de b) la probabilidad de que ocurra \"sol\" en un volado. "
      ],
      "metadata": {
        "id": "B28XCcimYDM4"
      }
    },
    {
      "cell_type": "code",
      "execution_count": 1,
      "metadata": {
        "colab": {
          "base_uri": "https://localhost:8080/"
        },
        "id": "6GbWb0IrXrLH",
        "outputId": "d8cf8137-1a7e-4db3-bed2-8c620b46938e"
      },
      "outputs": [
        {
          "output_type": "stream",
          "name": "stdout",
          "text": [
            "Aguila\n"
          ]
        }
      ],
      "source": [
        "#Ejercicio a)\n",
        "import random\n",
        "def volado():\n",
        "  v=random.random()\n",
        "  if (v<.5):\n",
        "    print(\"Sol\");\n",
        "  else:\n",
        "    print(\"Aguila\")\n",
        "\n",
        "volado()\n"
      ]
    },
    {
      "cell_type": "code",
      "source": [
        "#Ejercicio b)\n",
        "import random\n",
        "def cienvolados():\n",
        "   consol=0\n",
        "   for i in range (100):\n",
        "     v=random.random()\n",
        "     if (v<.5):\n",
        "       consol=consol+1;\n",
        "       print(\"Sol\");\n",
        "     else:\n",
        "       p=9\n",
        "       print(\"Aguila\")\n",
        "   return (consol)\n",
        "h=cienvolados()"
      ],
      "metadata": {
        "colab": {
          "base_uri": "https://localhost:8080/"
        },
        "id": "FiK85vKXZ65X",
        "outputId": "0654c286-cf39-4441-a35b-c53087ac6746"
      },
      "execution_count": 2,
      "outputs": [
        {
          "output_type": "stream",
          "name": "stdout",
          "text": [
            "Sol\n",
            "Sol\n",
            "Aguila\n",
            "Sol\n",
            "Aguila\n",
            "Sol\n",
            "Sol\n",
            "Aguila\n",
            "Aguila\n",
            "Aguila\n",
            "Aguila\n",
            "Aguila\n",
            "Aguila\n",
            "Sol\n",
            "Sol\n",
            "Sol\n",
            "Sol\n",
            "Aguila\n",
            "Aguila\n",
            "Aguila\n",
            "Aguila\n",
            "Sol\n",
            "Aguila\n",
            "Sol\n",
            "Aguila\n",
            "Aguila\n",
            "Sol\n",
            "Aguila\n",
            "Sol\n",
            "Sol\n",
            "Sol\n",
            "Sol\n",
            "Sol\n",
            "Sol\n",
            "Aguila\n",
            "Aguila\n",
            "Aguila\n",
            "Aguila\n",
            "Aguila\n",
            "Aguila\n",
            "Aguila\n",
            "Aguila\n",
            "Aguila\n",
            "Aguila\n",
            "Sol\n",
            "Sol\n",
            "Aguila\n",
            "Sol\n",
            "Sol\n",
            "Aguila\n",
            "Aguila\n",
            "Sol\n",
            "Aguila\n",
            "Aguila\n",
            "Sol\n",
            "Sol\n",
            "Aguila\n",
            "Sol\n",
            "Sol\n",
            "Sol\n",
            "Sol\n",
            "Aguila\n",
            "Sol\n",
            "Sol\n",
            "Sol\n",
            "Aguila\n",
            "Sol\n",
            "Aguila\n",
            "Aguila\n",
            "Sol\n",
            "Aguila\n",
            "Aguila\n",
            "Sol\n",
            "Sol\n",
            "Sol\n",
            "Sol\n",
            "Aguila\n",
            "Aguila\n",
            "Aguila\n",
            "Aguila\n",
            "Sol\n",
            "Aguila\n",
            "Sol\n",
            "Sol\n",
            "Aguila\n",
            "Sol\n",
            "Aguila\n",
            "Sol\n",
            "Sol\n",
            "Aguila\n",
            "Aguila\n",
            "Aguila\n",
            "Sol\n",
            "Sol\n",
            "Aguila\n",
            "Aguila\n",
            "Sol\n",
            "Sol\n",
            "Sol\n",
            "Aguila\n"
          ]
        }
      ]
    },
    {
      "cell_type": "code",
      "source": [
        "#Ejercicio c)\n",
        "psol=h/100\n",
        "paguila=1-psol\n",
        "print(\"probabilidad de sol\")\n",
        "print(psol)\n",
        "print(\"probabilidad de aguila\")\n",
        "print(paguila)"
      ],
      "metadata": {
        "colab": {
          "base_uri": "https://localhost:8080/"
        },
        "id": "MvddR2V4aIFn",
        "outputId": "67ee3c9b-ae24-4986-c097-106db1fed403"
      },
      "execution_count": 3,
      "outputs": [
        {
          "output_type": "stream",
          "name": "stdout",
          "text": [
            "probabilidad de sol\n",
            "0.49\n",
            "probabilidad de aguila\n",
            "0.51\n"
          ]
        }
      ]
    }
  ]
}