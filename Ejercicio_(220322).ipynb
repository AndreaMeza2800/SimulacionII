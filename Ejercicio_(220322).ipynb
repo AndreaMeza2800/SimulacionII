{
  "nbformat": 4,
  "nbformat_minor": 0,
  "metadata": {
    "colab": {
      "name": "Tarea1Parcial2.ipynb",
      "provenance": [],
      "collapsed_sections": [],
      "authorship_tag": "ABX9TyOQ295MvQ4xjKGHa2zvWUbS",
      "include_colab_link": true
    },
    "kernelspec": {
      "name": "python3",
      "display_name": "Python 3"
    },
    "language_info": {
      "name": "python"
    }
  },
  "cells": [
    {
      "cell_type": "markdown",
      "metadata": {
        "id": "view-in-github",
        "colab_type": "text"
      },
      "source": [
        "<a href=\"https://colab.research.google.com/github/AndreaMeza2800/SimulacionII/blob/main/Ejercicio_(220322).ipynb\" target=\"_parent\"><img src=\"https://colab.research.google.com/assets/colab-badge.svg\" alt=\"Open In Colab\"/></a>"
      ]
    },
    {
      "cell_type": "markdown",
      "source": [
        "#Línea de espera con un servidor\n",
        "\n",
        "Andrea Leticia Meza Villa"
      ],
      "metadata": {
        "id": "tBunP3XGWrwE"
      }
    },
    {
      "cell_type": "code",
      "execution_count": 76,
      "metadata": {
        "colab": {
          "base_uri": "https://localhost:8080/",
          "height": 296
        },
        "id": "PJswt_O3BWZx",
        "outputId": "8e865f49-3066-4ffc-b908-dc520838527a"
      },
      "outputs": [
        {
          "output_type": "execute_result",
          "data": {
            "text/plain": [
              "Text(0, 0.5, 'Clientes en  sistema ')"
            ]
          },
          "metadata": {},
          "execution_count": 76
        },
        {
          "output_type": "display_data",
          "data": {
            "text/plain": [
              "<Figure size 432x288 with 1 Axes>"
            ],
            "image/png": "[encoded data removed]"
          },
          "metadata": {
            "needs_background": "light"
          }
        }
      ],
      "source": [
        "from random import expovariate\n",
        "from math import inf as Infinity\n",
        "import matplotlib.pyplot as plt\n",
        "\n",
        "tpll = 2.0                      # Tiempo de inter arrivo promedio\n",
        "tps = 2.0                       # Tiempo de servicio promedio\n",
        "T = 10.0                        # Tiempo total de la simulación\n",
        "t = 0.0                         # Tiempo de simulación actual\n",
        "tA=expovariate(1.0/tpll)        # Tiempo de arrivo del cliente\n",
        "tD = Infinity                   # Tiempo de salida del cliente\n",
        "N = 0                           # Variable de estado: número de clientes en el sistema\n",
        "NA=0                            # Numero de llegadas hasta el instante t\n",
        "ND=0                            # Numero de salidas hasta el instante t\n",
        "A=[]                            # Registro de hora de llegadas\n",
        "D=[]                            # Registro de hora de salidas\n",
        "X=[]                            #Tiempo\n",
        "Y=[]                            #Evento \n",
        "while t <= T:\n",
        "    if tA < tD:                                  # Evento de arrivo \n",
        "        t = tA        #Se mueve hasta el tiempo tA\n",
        "        NA= NA + 1.0    #Llegada en el instante tA\n",
        "        N = N + 1.0   #Se suma un cliente\n",
        "        tA = t + expovariate(1.0/tpll)  #Tiempo del siguiente arrivo \n",
        "        if N == 1:\n",
        "            tD = t + expovariate(1.0/tps) #Tiempo de de la siguiente salida\n",
        "        A.append(t)\n",
        "        X.append(t)\n",
        "        Y.append(N)\n",
        "    else:                                                    # Evento de salida\n",
        "        t = tD\n",
        "        N = N - 1.0  #Se va el cliente \n",
        "        ND= ND+1.0    #Salida en el instante tD\n",
        "        if N > 0:\n",
        "            tD = t + expovariate(1.0/tps)\n",
        "        else:\n",
        "            tD = Infinity\n",
        "        D.append(t)\n",
        "        X.append(t)\n",
        "        Y.append(N)\n",
        "\n",
        "while N>0: # t > T  #Termina el tiempo de simulación (Ya no recibe mas arrivo de clientes)\n",
        "  t=tD\n",
        "  N=N-1 #Salen ultimos clientes\n",
        "  ND= ND+1.0\n",
        "  if N > 0:\n",
        "    tD = t + expovariate(1.0/tps)\n",
        "  else:\n",
        "    tD = Infinity\n",
        "  D.append(t)\n",
        "  X.append(t)\n",
        "  Y.append(N)\n",
        "\n",
        "#Ya ha salido ultimo cliente \n",
        "#print(\"Tiempos de llegada\")\n",
        "#print(A)\n",
        "#print(\"Tiempos de salida\")\n",
        "#print(D)\n",
        "Tp=t-T\n",
        "#print(\"Tiempo de salida despues de tiempo de servicio\")\n",
        "#print(Tp)\n",
        "plt.plot(X, Y, drawstyle='steps-post')\n",
        "plt.xlabel('Tiempo')\n",
        "plt.ylabel('Clientes en  sistema ')\n",
        "#print(X)\n",
        "#print(Y)"
      ]
    }
  ]
}