{
  "nbformat": 4,
  "nbformat_minor": 0,
  "metadata": {
    "colab": {
      "name": "Tarea1Parcial2.ipynb",
      "provenance": [],
      "collapsed_sections": [],
      "authorship_tag": "ABX9TyMKWhZUE/IwrSWf/JlwUv0d",
      "include_colab_link": true
    },
    "kernelspec": {
      "name": "python3",
      "display_name": "Python 3"
    },
    "language_info": {
      "name": "python"
    }
  },
  "cells": [
    {
      "cell_type": "markdown",
      "metadata": {
        "id": "view-in-github",
        "colab_type": "text"
      },
      "source": [
        "<a href=\"https://colab.research.google.com/github/AndreaMeza2800/SimulacionII/blob/main/Tarea1Parcial2_corregido.ipynb\" target=\"_parent\"><img src=\"https://colab.research.google.com/assets/colab-badge.svg\" alt=\"Open In Colab\"/></a>"
      ]
    },
    {
      "cell_type": "markdown",
      "source": [
        "#Línea de espera con un servidor\n",
        "\n",
        "Andrea Leticia Meza Villa"
      ],
      "metadata": {
        "id": "tBunP3XGWrwE"
      }
    },
    {
      "cell_type": "code",
      "execution_count": 20,
      "metadata": {
        "colab": {
          "base_uri": "https://localhost:8080/"
        },
        "id": "PJswt_O3BWZx",
        "outputId": "5e05b3be-3d3c-4dce-d35e-33e3105ac119"
      },
      "outputs": [
        {
          "output_type": "stream",
          "name": "stdout",
          "text": [
            "Tiempos de llegada\n",
            "[0.2701782251111325, 2.422141143964173, 4.1550513109565905, 9.281368972785103, 9.415925057233563]\n",
            "Tiempos de salida\n",
            "[0.6181344019912981, 2.4851082777038394, 8.766097085778714, 9.78777991836948, 10.033105717178096]\n",
            "Tiempo de salida despues de tiempo de servicio\n",
            "0.03310571717809552\n"
          ]
        }
      ],
      "source": [
        "from random import expovariate\n",
        "from math import inf as Infinity\n",
        "\n",
        "tpll = 2.0                      # Tiempo de inter arrivo promedio\n",
        "tps = 2.0                       # Tiempo de servicio promedio\n",
        "T = 10.0                       # Tiempo total de la simulación\n",
        "t = 0.0                         # Tiempo de simulación actual\n",
        "tA=expovariate(1.0/tpll)        # Tiempo de arrivo del cliente\n",
        "tD = Infinity                   # Tiempo de salida del cliente\n",
        "N = 0                           # Variable de estado: número de clientes en el sistema\n",
        "NA=0                            # Numero de llegadas hasta el instante t\n",
        "ND=0                            # Numero de salidas hasta el instante t\n",
        "A=[]                            # Registro de hora de llegadas\n",
        "D=[]                            # Registro de hora de salidas\n",
        "\n",
        "while t <= T:\n",
        "    if tA < tD:                                  # Evento de arrivo \n",
        "        t = tA        #Se mueve hasta el tiempo tA\n",
        "        NA= NA + 1.0    #Llegada en el instante tA\n",
        "        N = N + 1.0   #Se suma un cliente\n",
        "        tA = t + expovariate(1.0/tpll)  #Tiempo del siguiente arrivo \n",
        "        if N == 1:\n",
        "            tD = t + expovariate(1.0/tps) \n",
        "        A.append(t)\n",
        "    else:                                                    # Evento de salida\n",
        "        t = tD\n",
        "        N = N - 1.0  #Se va el cliente \n",
        "        ND= ND+1.0    #Salida en el instante tD\n",
        "        if N > 0:\n",
        "            tD = t + expovariate(1.0/tps)\n",
        "        else:\n",
        "            tD = Infinity\n",
        "        D.append(t)\n",
        "\n",
        "while N>0: # t > T  #Termina el tiempo de simulación (Ya no recibe mas arrivo de clientes)\n",
        "  t=tD\n",
        "  N=N-1 #Salen ultimos clientes\n",
        "  ND= ND+1.0\n",
        "  if N > 0:\n",
        "    tD = t + expovariate(1.0/tps)\n",
        "  else:\n",
        "    tD = Infinity\n",
        "  D.append(t)\n",
        "\n",
        "#Ya ha salido ultimo cliente \n",
        "print(\"Tiempos de llegada\")\n",
        "print(A)\n",
        "print(\"Tiempos de salida\")\n",
        "print(D)\n",
        "Tp=t-T\n",
        "print(\"Tiempo de salida despues de tiempo de servicio\")\n",
        "print(Tp)"
      ]
    }
  ]
}